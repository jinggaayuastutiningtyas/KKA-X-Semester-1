{
  "nbformat": 4,
  "nbformat_minor": 0,
  "metadata": {
    "colab": {
      "provenance": [],
      "authorship_tag": "ABX9TyN4+jXJ2cI0QhHbKFqdH2/V",
      "include_colab_link": true
    },
    "kernelspec": {
      "name": "python3",
      "display_name": "Python 3"
    },
    "language_info": {
      "name": "python"
    }
  },
  "cells": [
    {
      "cell_type": "markdown",
      "metadata": {
        "id": "view-in-github",
        "colab_type": "text"
      },
      "source": [
        "<a href=\"https://colab.research.google.com/github/jinggaayuastutiningtyas/KKA-X-Semester-1/blob/main/Fungsi_print_Jingga_X_7.ipynb\" target=\"_parent\"><img src=\"https://colab.research.google.com/assets/colab-badge.svg\" alt=\"Open In Colab\"/></a>"
      ]
    },
    {
      "cell_type": "markdown",
      "source": [
        "#Menampilkan Teks Bebas Dengan Tanda Kutip"
      ],
      "metadata": {
        "id": "HwnLNy--PH2M"
      }
    },
    {
      "cell_type": "markdown",
      "source": [
        "Nama: Jingga Ayu Astutiningtyas\n",
        "\n",
        "Kelas: X.7\n",
        "\n",
        "No: 19"
      ],
      "metadata": {
        "id": "A2glaIXTVLZt"
      }
    },
    {
      "cell_type": "code",
      "execution_count": null,
      "metadata": {
        "colab": {
          "base_uri": "https://localhost:8080/"
        },
        "id": "w7-3me6ZI259",
        "outputId": "5609a5b0-2839-42b0-e091-f110a162a677"
      },
      "outputs": [
        {
          "output_type": "stream",
          "name": "stdout",
          "text": [
            "Hallo world!\n"
          ]
        }
      ],
      "source": [
        "print(\"Hallo world!\")"
      ]
    },
    {
      "cell_type": "code",
      "source": [
        "print(\"Jingga Ayu Astutiningtyas\")"
      ],
      "metadata": {
        "colab": {
          "base_uri": "https://localhost:8080/"
        },
        "id": "4wcl_ZjPKjdD",
        "outputId": "472585d7-5ae7-471f-bcda-8fddfd581b3a"
      },
      "execution_count": null,
      "outputs": [
        {
          "output_type": "stream",
          "name": "stdout",
          "text": [
            "Jingga Ayu Astutiningtyas\n"
          ]
        }
      ]
    },
    {
      "cell_type": "code",
      "source": [
        "usia = 20\n",
        "print(usia)"
      ],
      "metadata": {
        "colab": {
          "base_uri": "https://localhost:8080/"
        },
        "id": "_kFO404sMKNI",
        "outputId": "28e5d54f-06fa-4e73-ebba-1826a87c1de5"
      },
      "execution_count": null,
      "outputs": [
        {
          "output_type": "stream",
          "name": "stdout",
          "text": [
            "20\n"
          ]
        }
      ]
    },
    {
      "cell_type": "code",
      "source": [
        "beratBadan = 50\n",
        "print(beratBadan)"
      ],
      "metadata": {
        "colab": {
          "base_uri": "https://localhost:8080/"
        },
        "id": "AmafiJM4M4Dm",
        "outputId": "0f687cd5-4604-464d-a275-d36225cbf10b"
      },
      "execution_count": null,
      "outputs": [
        {
          "output_type": "stream",
          "name": "stdout",
          "text": [
            "50\n"
          ]
        }
      ]
    },
    {
      "cell_type": "markdown",
      "source": [],
      "metadata": {
        "id": "28Xvhvq8ROkj"
      }
    },
    {
      "cell_type": "code",
      "source": [
        "tinggiBadan = 155\n",
        "print(tinggiBadan)"
      ],
      "metadata": {
        "colab": {
          "base_uri": "https://localhost:8080/"
        },
        "id": "d_Kd24JwNfPA",
        "outputId": "c5b75555-f937-4ad0-f5bf-69b313022327"
      },
      "execution_count": null,
      "outputs": [
        {
          "output_type": "stream",
          "name": "stdout",
          "text": [
            "155\n"
          ]
        }
      ]
    },
    {
      "cell_type": "markdown",
      "source": [
        "#Menampilkan Teks  Bebas Dan Nilai Variabel"
      ],
      "metadata": {
        "id": "wc4F-jyTQy5V"
      }
    },
    {
      "cell_type": "code",
      "source": [
        "print(\"Tinggi badan: \", tinggiBadan)"
      ],
      "metadata": {
        "colab": {
          "base_uri": "https://localhost:8080/"
        },
        "id": "6nHn-l76OIUt",
        "outputId": "81079c6f-5289-4ff0-aeaf-58a57b0a6110"
      },
      "execution_count": null,
      "outputs": [
        {
          "output_type": "stream",
          "name": "stdout",
          "text": [
            "Tinggi badan:  155\n"
          ]
        }
      ]
    },
    {
      "cell_type": "code",
      "source": [
        "print(\"Usia Anda: \" + str(usia))"
      ],
      "metadata": {
        "colab": {
          "base_uri": "https://localhost:8080/"
        },
        "id": "npfj5ZQNUDK8",
        "outputId": "f436c76e-ff3d-4b52-cb1b-4cd5133416e9"
      },
      "execution_count": null,
      "outputs": [
        {
          "output_type": "stream",
          "name": "stdout",
          "text": [
            "Usia Anda: 20\n"
          ]
        }
      ]
    },
    {
      "cell_type": "code",
      "source": [
        "LuasMAN = 1.1\n",
        "print(\"Luas MAN adalah \" + str(LuasMAN) + \"kilometer persegi.\")"
      ],
      "metadata": {
        "colab": {
          "base_uri": "https://localhost:8080/"
        },
        "id": "8HWPOAI7USey",
        "outputId": "88b4bb76-b09c-49eb-f8a0-ca173cbe1628"
      },
      "execution_count": null,
      "outputs": [
        {
          "output_type": "stream",
          "name": "stdout",
          "text": [
            "Luas MAN adalah 1.1kilometer persegi.\n"
          ]
        }
      ]
    },
    {
      "cell_type": "code",
      "source": [
        "harga_telur = 26000\n",
        "nama_pembeli = \"Jingga\"\n",
        "\n",
        "print(\"Harga telur adalah.\" , harga_telur , \"per kilogram\")\n",
        "print(\"Nama pembeli telur adalah\", nama_pembeli )"
      ],
      "metadata": {
        "colab": {
          "base_uri": "https://localhost:8080/"
        },
        "id": "l0N69XYMM17b",
        "outputId": "1b3be5e2-a404-4682-839d-3384c68cb9ab"
      },
      "execution_count": null,
      "outputs": [
        {
          "output_type": "stream",
          "name": "stdout",
          "text": [
            "Harga telur adalah. 26000 per kilogram\n",
            "Nama pembeli telur adalah Jingga\n"
          ]
        }
      ]
    },
    {
      "cell_type": "code",
      "source": [
        "print(\"Harga telur adalah \" + str(harga_telur) + \" per kilogram\")\n",
        "print(\"Nama pembeli telur adalah \" + nama_pembeli )"
      ],
      "metadata": {
        "colab": {
          "base_uri": "https://localhost:8080/"
        },
        "id": "Uqr1SwMDRg-t",
        "outputId": "5ac28ae1-5249-40ef-ae9a-3d726285e874"
      },
      "execution_count": null,
      "outputs": [
        {
          "output_type": "stream",
          "name": "stdout",
          "text": [
            "Harga telur adalah 26000per kilogram\n",
            "Nama pembeli telur adalah Jingga\n"
          ]
        }
      ]
    },
    {
      "cell_type": "code",
      "source": [
        "print(f\"Harga telur adalah {harga_telur} per kilogram\")\n",
        "print(f\"Nama pembeli telur adalah {nama_pembeli}\")"
      ],
      "metadata": {
        "colab": {
          "base_uri": "https://localhost:8080/"
        },
        "id": "V1BqAfp1SfIa",
        "outputId": "659d478a-6bdf-4bb8-b6f0-1d0e846a3c33"
      },
      "execution_count": null,
      "outputs": [
        {
          "output_type": "stream",
          "name": "stdout",
          "text": [
            "Harga telur adalah 26000 per kilogram\n",
            "Nama pembeli telur adalah Jingga\n"
          ]
        }
      ]
    },
    {
      "cell_type": "markdown",
      "source": [
        "#Escape Character"
      ],
      "metadata": {
        "id": "LJX3IG1CVBSy"
      }
    },
    {
      "cell_type": "code",
      "source": [
        "print(\"Nama: Jingga Ayu Astutiningtyas\")\n",
        "print(\"Kelas: X.7\")\n",
        "print(\"Nomor absen: 19\")"
      ],
      "metadata": {
        "colab": {
          "base_uri": "https://localhost:8080/"
        },
        "id": "ldRwWHzWVWj9",
        "outputId": "8570aadb-eeef-49b8-ef80-84c76648dfb1"
      },
      "execution_count": null,
      "outputs": [
        {
          "output_type": "stream",
          "name": "stdout",
          "text": [
            "Nama: Jingga Ayu Astutiningtyas\n",
            "Kelas: X.7\n",
            "Nomor absen: 19\n"
          ]
        }
      ]
    },
    {
      "cell_type": "code",
      "source": [
        "print(\"Nama\\t\\t: Jingga Ayu Astutiningtyas\\nKelas\\t\\t: X.7\\nNomor absen\\t: 19\")"
      ],
      "metadata": {
        "colab": {
          "base_uri": "https://localhost:8080/"
        },
        "id": "TMf2ylVIVxpu",
        "outputId": "222448b0-f8cc-40e8-c13d-47de4b674237"
      },
      "execution_count": null,
      "outputs": [
        {
          "output_type": "stream",
          "name": "stdout",
          "text": [
            "Nama\t\t: Jingga Ayu Astutiningtyas\n",
            "Kelas\t\t: X.7\n",
            "Nomor absen\t: 19\n"
          ]
        }
      ]
    },
    {
      "cell_type": "code",
      "source": [
        "print(\"\"\"Nama: Jingga Ayu Astutiningtyas\n",
        "Kelas: X.7\n",
        "Nomor absen: 19\"\"\")"
      ],
      "metadata": {
        "colab": {
          "base_uri": "https://localhost:8080/"
        },
        "id": "147ZzRKYWcti",
        "outputId": "aa15c661-223f-43c2-ac41-88c2f8046d84"
      },
      "execution_count": null,
      "outputs": [
        {
          "output_type": "stream",
          "name": "stdout",
          "text": [
            "Nama: Jingga Ayu Astutiningtyas\n",
            "Kelas: X.7\n",
            "Nomor absen: 19\n"
          ]
        }
      ]
    },
    {
      "cell_type": "code",
      "source": [
        "print(\"Nama: Habib Jafar\")"
      ],
      "metadata": {
        "colab": {
          "base_uri": "https://localhost:8080/"
        },
        "id": "6IOVZIamRNHD",
        "outputId": "2dbd0480-a2e2-47c2-d667-31a1ccd9cd04"
      },
      "execution_count": null,
      "outputs": [
        {
          "output_type": "stream",
          "name": "stdout",
          "text": [
            "Nama: Habib Jafar\n"
          ]
        }
      ]
    },
    {
      "cell_type": "code",
      "source": [
        "print('Nama: Habib Jafar')"
      ],
      "metadata": {
        "colab": {
          "base_uri": "https://localhost:8080/"
        },
        "id": "4EgvH3KmR0yj",
        "outputId": "4bfa4df2-3148-479f-d349-19e0ff8fffc3"
      },
      "execution_count": null,
      "outputs": [
        {
          "output_type": "stream",
          "name": "stdout",
          "text": [
            "Nama: Habib Jafar\n"
          ]
        }
      ]
    },
    {
      "cell_type": "code",
      "source": [
        "print('Nama: Habib Ja\\'far')"
      ],
      "metadata": {
        "colab": {
          "base_uri": "https://localhost:8080/"
        },
        "id": "7HYSDsDVR7NK",
        "outputId": "235f79e8-b857-42bf-dac4-e63e643c1ea2"
      },
      "execution_count": null,
      "outputs": [
        {
          "output_type": "stream",
          "name": "stdout",
          "text": [
            "Nama: Habib Ja'far\n"
          ]
        }
      ]
    },
    {
      "cell_type": "code",
      "source": [
        "print(\"Nama: Habib Ja'far\")"
      ],
      "metadata": {
        "colab": {
          "base_uri": "https://localhost:8080/"
        },
        "id": "m_cUK3WwSH5g",
        "outputId": "1c4c0de7-c001-45b5-ee84-4a7c92289924"
      },
      "execution_count": null,
      "outputs": [
        {
          "output_type": "stream",
          "name": "stdout",
          "text": [
            "Nama: Habib Ja'far\n"
          ]
        }
      ]
    },
    {
      "cell_type": "code",
      "source": [
        "print(\"Bu Shinta berkata, \\\"Tenang fokus sejenak!\\\".\")"
      ],
      "metadata": {
        "colab": {
          "base_uri": "https://localhost:8080/"
        },
        "id": "6MIR8njDSU9O",
        "outputId": "62d8ad38-3705-4811-fa6e-0c676f75b09c"
      },
      "execution_count": null,
      "outputs": [
        {
          "output_type": "stream",
          "name": "stdout",
          "text": [
            "Bu Shinta berkata, \"Tenang fokus sejenak!\".\n"
          ]
        }
      ]
    },
    {
      "cell_type": "code",
      "source": [
        "print('Bu Shinta berkata, \"Tenang fokus sejenak!\".')"
      ],
      "metadata": {
        "colab": {
          "base_uri": "https://localhost:8080/"
        },
        "id": "asqOJvfkSqrU",
        "outputId": "67444281-ffb7-4adf-deea-d0315cc6a3c4"
      },
      "execution_count": null,
      "outputs": [
        {
          "output_type": "stream",
          "name": "stdout",
          "text": [
            "Bu Shinta berkata, \"Tenang fokus sejenak!\".\n"
          ]
        }
      ]
    },
    {
      "cell_type": "code",
      "source": [
        "print(\"Lokasi penyimpanan tugas KKA ada di Local disk D:\\\\KKA\\\\Tugas\")"
      ],
      "metadata": {
        "colab": {
          "base_uri": "https://localhost:8080/"
        },
        "id": "gjCdYqV2S6ME",
        "outputId": "4d56694f-55a7-4256-aed5-2e48da3a93ed"
      },
      "execution_count": null,
      "outputs": [
        {
          "output_type": "stream",
          "name": "stdout",
          "text": [
            "Lokasi penyimpanan tugas KKA ada di Local disk D:\\KKA\\Tugas\n"
          ]
        }
      ]
    },
    {
      "cell_type": "markdown",
      "source": [
        "#Parameter Fungsi Print"
      ],
      "metadata": {
        "id": "LKn0Xhf1WWdK"
      }
    },
    {
      "cell_type": "code",
      "source": [
        "Tanggal = 18\n",
        "Bulan = \"Februari\"\n",
        "Tahun = 2000\n",
        "\n",
        "#18-Februari-2000\n",
        "print(Tanggal)\n",
        "print(Bulan)\n",
        "print(Tahun)"
      ],
      "metadata": {
        "colab": {
          "base_uri": "https://localhost:8080/"
        },
        "id": "4r5tWGoHWLFX",
        "outputId": "4481a4b3-bb8a-4de8-d79f-70722d548236"
      },
      "execution_count": null,
      "outputs": [
        {
          "output_type": "stream",
          "name": "stdout",
          "text": [
            "18\n",
            "Februari\n",
            "2000\n"
          ]
        }
      ]
    },
    {
      "cell_type": "code",
      "source": [
        "#18-Februari-2000\n",
        "print(Tanggal, Bulan, Tahun, sep=\"-\")"
      ],
      "metadata": {
        "colab": {
          "base_uri": "https://localhost:8080/"
        },
        "id": "_8lJOPXbW2It",
        "outputId": "d4836dba-8af0-41a2-8d5f-35b88941dc0d"
      },
      "execution_count": null,
      "outputs": [
        {
          "output_type": "stream",
          "name": "stdout",
          "text": [
            "18-Februari-2000\n"
          ]
        }
      ]
    },
    {
      "cell_type": "code",
      "source": [
        "#18-Februari-2000\n",
        "print(Tanggal, end=\"-\")\n",
        "print(Bulan, end=\"-\")\n",
        "print()"
      ],
      "metadata": {
        "id": "e64Jj14xW1Io"
      },
      "execution_count": null,
      "outputs": []
    }
  ]
}